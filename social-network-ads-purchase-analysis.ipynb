{
 "cells": [
  {
   "cell_type": "markdown",
   "id": "national-cross",
   "metadata": {
    "id": "afuRUPjwQXkg",
    "papermill": {
     "duration": 0.048734,
     "end_time": "2021-06-27T05:44:05.326511",
     "exception": false,
     "start_time": "2021-06-27T05:44:05.277777",
     "status": "completed"
    },
    "tags": []
   },
   "source": [
    "# Machine Learning for Targeted Advertising : A Case Study For Social Network Ads."
   ]
  },
  {
   "cell_type": "markdown",
   "id": "polar-dubai",
   "metadata": {
    "id": "w171rGNaQfdC",
    "papermill": {
     "duration": 0.049067,
     "end_time": "2021-06-27T05:44:05.423372",
     "exception": false,
     "start_time": "2021-06-27T05:44:05.374305",
     "status": "completed"
    },
    "tags": []
   },
   "source": [
    "This notebook includes analyzing data related to social network ads, identifying patterns and relationships, and building a predictive model to identify the target audience that is most likely to respond positively to the ads.\n"
   ]
  },
  {
   "cell_type": "markdown",
   "id": "monthly-stack",
   "metadata": {
    "id": "zmGb_0slQ1HW",
    "papermill": {
     "duration": 0.046357,
     "end_time": "2021-06-27T05:44:05.517126",
     "exception": false,
     "start_time": "2021-06-27T05:44:05.470769",
     "status": "completed"
    },
    "tags": []
   },
   "source": [
    "My approach is as follows:\n",
    "\n",
    "1. Problem definition\n",
    "2. Data\n",
    "3. Evaluation\n",
    "4. Features\n",
    "5. Modelling\n",
    "6. Model Evaluation"
   ]
  },
  {
   "cell_type": "markdown",
   "id": "therapeutic-momentum",
   "metadata": {
    "id": "xDI0DqwnQ1v2",
    "papermill": {
     "duration": 0.04581,
     "end_time": "2021-06-27T05:44:05.609126",
     "exception": false,
     "start_time": "2021-06-27T05:44:05.563316",
     "status": "completed"
    },
    "tags": []
   },
   "source": [
    "# 1. Problem Definition\n",
    "\n",
    "How we can use various python based Machine Learning Models to predict the if a product will be purchased from ad shown on social network?\n"
   ]
  },
  {
   "cell_type": "markdown",
   "id": "horizontal-legislature",
   "metadata": {
    "id": "MTxMDD9ORCDv",
    "papermill": {
     "duration": 0.046552,
     "end_time": "2021-06-27T05:44:05.701669",
     "exception": false,
     "start_time": "2021-06-27T05:44:05.655117",
     "status": "completed"
    },
    "tags": []
   },
   "source": [
    "# 2. Data\n",
    "\n",
    "Data set from: https://www.kaggle.com/d4rklucif3r/social-network-ads\n",
    "\n",
    "The Dataset used in these models tells about whether a person of certain age having certain income purchases a product or not.\n",
    "We need to predict whether a targeted audience will purchase the product or not."
   ]
  },
  {
   "cell_type": "markdown",
   "id": "historical-aberdeen",
   "metadata": {
    "id": "LvnLVV9bRQH_",
    "papermill": {
     "duration": 0.047366,
     "end_time": "2021-06-27T05:44:05.795085",
     "exception": false,
     "start_time": "2021-06-27T05:44:05.747719",
     "status": "completed"
    },
    "tags": []
   },
   "source": [
    "# 3. Evaluation\n",
    "\n",
    "I will be using various classification metrics like accuracy, precision, recall, F1-score and support to evaluate my model."
   ]
  },
  {
   "cell_type": "markdown",
   "id": "wireless-turkish",
   "metadata": {
    "id": "D1QoEyv6RbUv",
    "papermill": {
     "duration": 0.047803,
     "end_time": "2021-06-27T05:44:05.890659",
     "exception": false,
     "start_time": "2021-06-27T05:44:05.842856",
     "status": "completed"
    },
    "tags": []
   },
   "source": [
    "# 4. Features\n",
    "\n",
    "## Input /  Features\n",
    "    1. Age - Age of the Person\n",
    "    2. EstimatedSalary - Estimated Salary of Person\n",
    "\n",
    "## Output / Label\n",
    "    3. PurchasedItem - Purchased or Not"
   ]
  },
  {
   "cell_type": "markdown",
   "id": "selective-color",
   "metadata": {
    "id": "WmwFS1e_VYlp",
    "papermill": {
     "duration": 0.046815,
     "end_time": "2021-06-27T05:44:05.983760",
     "exception": false,
     "start_time": "2021-06-27T05:44:05.936945",
     "status": "completed"
    },
    "tags": []
   },
   "source": [
    "## Standard Imports"
   ]
  },
  {
   "cell_type": "code",
   "execution_count": 69,
   "id": "advisory-procurement",
   "metadata": {
    "executionInfo": {
     "elapsed": 376,
     "status": "ok",
     "timestamp": 1624764005255,
     "user": {
      "displayName": "Dave Ng",
      "photoUrl": "https://lh3.googleusercontent.com/a-/AOh14GgonRm27MsGqoj6VBdYHSPgZwrgEH99_VpwU7OMzQ=s64",
      "userId": "11648937927449049695"
     },
     "user_tz": -480
    },
    "id": "8JEJwup1VYlq",
    "papermill": {
     "duration": 0.997077,
     "end_time": "2021-06-27T05:44:07.028206",
     "exception": false,
     "start_time": "2021-06-27T05:44:06.031129",
     "status": "completed"
    },
    "tags": []
   },
   "outputs": [],
   "source": [
    "import pandas as pd\n",
    "import numpy as np\n",
    "import matplotlib.pyplot as plt\n",
    "import seaborn as sns\n",
    "from sklearn.model_selection import train_test_split\n",
    "from warnings import filterwarnings"
   ]
  },
  {
   "cell_type": "markdown",
   "id": "9ea04725-a7a4-4257-894e-fd7e0fbf9615",
   "metadata": {},
   "source": [
    "## Model Imports"
   ]
  },
  {
   "cell_type": "code",
   "execution_count": 70,
   "id": "9c7b7154-be30-435c-92a5-7c128ab080ca",
   "metadata": {},
   "outputs": [],
   "source": [
    "from sklearn.linear_model import LogisticRegression\n",
    "from sklearn.neighbors import KNeighborsClassifier\n",
    "from sklearn.svm import SVC\n",
    "from sklearn.tree import DecisionTreeClassifier\n",
    "from sklearn.ensemble import RandomForestClassifier, AdaBoostClassifier, GradientBoostingClassifier\n",
    "from xgboost import XGBClassifier, XGBRFClassifier\n",
    "from sklearn.metrics import classification_report, plot_confusion_matrix, plot_roc_curve\n",
    "from sklearn.preprocessing import StandardScaler\n",
    "from sklearn.model_selection import RandomizedSearchCV"
   ]
  },
  {
   "cell_type": "code",
   "execution_count": 71,
   "id": "otherwise-backup",
   "metadata": {
    "executionInfo": {
     "elapsed": 18,
     "status": "ok",
     "timestamp": 1624764005929,
     "user": {
      "displayName": "Dave Ng",
      "photoUrl": "https://lh3.googleusercontent.com/a-/AOh14GgonRm27MsGqoj6VBdYHSPgZwrgEH99_VpwU7OMzQ=s64",
      "userId": "11648937927449049695"
     },
     "user_tz": -480
    },
    "id": "vkETWTVOVYlr",
    "outputId": "104ff39a-378a-4ded-cb58-9fbded40cbc5",
    "papermill": {
     "duration": 0.072544,
     "end_time": "2021-06-27T05:44:07.384848",
     "exception": false,
     "start_time": "2021-06-27T05:44:07.312304",
     "status": "completed"
    },
    "tags": []
   },
   "outputs": [],
   "source": [
    "# local\n",
    "df = pd.read_csv('Social_Media_Ads.csv')\n"
   ]
  },
  {
   "cell_type": "markdown",
   "id": "smaller-arizona",
   "metadata": {
    "id": "qJn7ORqNVYlt",
    "papermill": {
     "duration": 0.048057,
     "end_time": "2021-06-27T05:44:07.489315",
     "exception": false,
     "start_time": "2021-06-27T05:44:07.441258",
     "status": "completed"
    },
    "tags": []
   },
   "source": [
    "## Data Exporation"
   ]
  },
  {
   "cell_type": "code",
   "execution_count": 72,
   "id": "sound-medicaid",
   "metadata": {
    "executionInfo": {
     "elapsed": 16,
     "status": "ok",
     "timestamp": 1624764005931,
     "user": {
      "displayName": "Dave Ng",
      "photoUrl": "https://lh3.googleusercontent.com/a-/AOh14GgonRm27MsGqoj6VBdYHSPgZwrgEH99_VpwU7OMzQ=s64",
      "userId": "11648937927449049695"
     },
     "user_tz": -480
    },
    "id": "eLOxQnHrWenS",
    "outputId": "87c680ce-13d3-4433-82d7-083687e00399",
    "papermill": {
     "duration": 0.080784,
     "end_time": "2021-06-27T05:44:07.621556",
     "exception": false,
     "start_time": "2021-06-27T05:44:07.540772",
     "status": "completed"
    },
    "tags": []
   },
   "outputs": [
    {
     "data": {
      "text/html": [
       "<div>\n",
       "<style scoped>\n",
       "    .dataframe tbody tr th:only-of-type {\n",
       "        vertical-align: middle;\n",
       "    }\n",
       "\n",
       "    .dataframe tbody tr th {\n",
       "        vertical-align: top;\n",
       "    }\n",
       "\n",
       "    .dataframe thead th {\n",
       "        text-align: right;\n",
       "    }\n",
       "</style>\n",
       "<table border=\"1\" class=\"dataframe\">\n",
       "  <thead>\n",
       "    <tr style=\"text-align: right;\">\n",
       "      <th></th>\n",
       "      <th>Age</th>\n",
       "      <th>EstimatedSalary</th>\n",
       "      <th>Purchased</th>\n",
       "    </tr>\n",
       "  </thead>\n",
       "  <tbody>\n",
       "    <tr>\n",
       "      <th>0</th>\n",
       "      <td>19</td>\n",
       "      <td>19000</td>\n",
       "      <td>0</td>\n",
       "    </tr>\n",
       "    <tr>\n",
       "      <th>1</th>\n",
       "      <td>35</td>\n",
       "      <td>20000</td>\n",
       "      <td>0</td>\n",
       "    </tr>\n",
       "    <tr>\n",
       "      <th>2</th>\n",
       "      <td>26</td>\n",
       "      <td>43000</td>\n",
       "      <td>0</td>\n",
       "    </tr>\n",
       "    <tr>\n",
       "      <th>3</th>\n",
       "      <td>27</td>\n",
       "      <td>57000</td>\n",
       "      <td>0</td>\n",
       "    </tr>\n",
       "    <tr>\n",
       "      <th>4</th>\n",
       "      <td>19</td>\n",
       "      <td>76000</td>\n",
       "      <td>0</td>\n",
       "    </tr>\n",
       "  </tbody>\n",
       "</table>\n",
       "</div>"
      ],
      "text/plain": [
       "   Age  EstimatedSalary  Purchased\n",
       "0   19            19000          0\n",
       "1   35            20000          0\n",
       "2   26            43000          0\n",
       "3   27            57000          0\n",
       "4   19            76000          0"
      ]
     },
     "execution_count": 72,
     "metadata": {},
     "output_type": "execute_result"
    }
   ],
   "source": [
    "df.head()"
   ]
  },
  {
   "cell_type": "code",
   "execution_count": 73,
   "id": "c0468608-e529-4e92-8c09-6909a082fac2",
   "metadata": {},
   "outputs": [
    {
     "data": {
      "text/html": [
       "<div>\n",
       "<style scoped>\n",
       "    .dataframe tbody tr th:only-of-type {\n",
       "        vertical-align: middle;\n",
       "    }\n",
       "\n",
       "    .dataframe tbody tr th {\n",
       "        vertical-align: top;\n",
       "    }\n",
       "\n",
       "    .dataframe thead th {\n",
       "        text-align: right;\n",
       "    }\n",
       "</style>\n",
       "<table border=\"1\" class=\"dataframe\">\n",
       "  <thead>\n",
       "    <tr style=\"text-align: right;\">\n",
       "      <th></th>\n",
       "      <th>Age</th>\n",
       "      <th>EstimatedSalary</th>\n",
       "      <th>Purchased</th>\n",
       "    </tr>\n",
       "  </thead>\n",
       "  <tbody>\n",
       "    <tr>\n",
       "      <th>395</th>\n",
       "      <td>46</td>\n",
       "      <td>41000</td>\n",
       "      <td>1</td>\n",
       "    </tr>\n",
       "    <tr>\n",
       "      <th>396</th>\n",
       "      <td>51</td>\n",
       "      <td>23000</td>\n",
       "      <td>1</td>\n",
       "    </tr>\n",
       "    <tr>\n",
       "      <th>397</th>\n",
       "      <td>50</td>\n",
       "      <td>20000</td>\n",
       "      <td>1</td>\n",
       "    </tr>\n",
       "    <tr>\n",
       "      <th>398</th>\n",
       "      <td>36</td>\n",
       "      <td>33000</td>\n",
       "      <td>0</td>\n",
       "    </tr>\n",
       "    <tr>\n",
       "      <th>399</th>\n",
       "      <td>49</td>\n",
       "      <td>36000</td>\n",
       "      <td>1</td>\n",
       "    </tr>\n",
       "  </tbody>\n",
       "</table>\n",
       "</div>"
      ],
      "text/plain": [
       "     Age  EstimatedSalary  Purchased\n",
       "395   46            41000          1\n",
       "396   51            23000          1\n",
       "397   50            20000          1\n",
       "398   36            33000          0\n",
       "399   49            36000          1"
      ]
     },
     "execution_count": 73,
     "metadata": {},
     "output_type": "execute_result"
    }
   ],
   "source": [
    "df.tail()"
   ]
  },
  {
   "cell_type": "code",
   "execution_count": 74,
   "id": "8f581299-3c94-48bd-a56c-2d5984f52237",
   "metadata": {},
   "outputs": [
    {
     "data": {
      "text/plain": [
       "(400, 3)"
      ]
     },
     "execution_count": 74,
     "metadata": {},
     "output_type": "execute_result"
    }
   ],
   "source": [
    "df.shape"
   ]
  },
  {
   "cell_type": "markdown",
   "id": "b45ed3fe-5039-4d39-b5b9-c523b5a067f5",
   "metadata": {},
   "source": [
    "The dataset has 400 records each have 2 features(age of a person, estimated annual salary of a person) and 1 target label(whether the person purchased the product or not)."
   ]
  },
  {
   "cell_type": "code",
   "execution_count": 75,
   "id": "loose-parks",
   "metadata": {
    "executionInfo": {
     "elapsed": 15,
     "status": "ok",
     "timestamp": 1624764005931,
     "user": {
      "displayName": "Dave Ng",
      "photoUrl": "https://lh3.googleusercontent.com/a-/AOh14GgonRm27MsGqoj6VBdYHSPgZwrgEH99_VpwU7OMzQ=s64",
      "userId": "11648937927449049695"
     },
     "user_tz": -480
    },
    "id": "rGyhTWwFWgNp",
    "outputId": "4d41b271-5c96-4d47-914c-9ec62af25af9",
    "papermill": {
     "duration": 0.080956,
     "end_time": "2021-06-27T05:44:07.749790",
     "exception": false,
     "start_time": "2021-06-27T05:44:07.668834",
     "status": "completed"
    },
    "tags": []
   },
   "outputs": [
    {
     "name": "stdout",
     "output_type": "stream",
     "text": [
      "<class 'pandas.core.frame.DataFrame'>\n",
      "RangeIndex: 400 entries, 0 to 399\n",
      "Data columns (total 3 columns):\n",
      " #   Column           Non-Null Count  Dtype\n",
      "---  ------           --------------  -----\n",
      " 0   Age              400 non-null    int64\n",
      " 1   EstimatedSalary  400 non-null    int64\n",
      " 2   Purchased        400 non-null    int64\n",
      "dtypes: int64(3)\n",
      "memory usage: 9.5 KB\n"
     ]
    }
   ],
   "source": [
    "df.info()"
   ]
  },
  {
   "cell_type": "markdown",
   "id": "013da878-1ebe-48ec-bff5-92cb625b1e28",
   "metadata": {},
   "source": [
    "There are no null values in any of the columns of the datatframe. Additionally, all the attributes are of type int64."
   ]
  },
  {
   "cell_type": "code",
   "execution_count": 76,
   "id": "complete-field",
   "metadata": {
    "executionInfo": {
     "elapsed": 515,
     "status": "ok",
     "timestamp": 1624764006434,
     "user": {
      "displayName": "Dave Ng",
      "photoUrl": "https://lh3.googleusercontent.com/a-/AOh14GgonRm27MsGqoj6VBdYHSPgZwrgEH99_VpwU7OMzQ=s64",
      "userId": "11648937927449049695"
     },
     "user_tz": -480
    },
    "id": "oxMGqpGUWiO4",
    "outputId": "bc7b63d3-ec76-44fe-ca92-34f1dbcb2919",
    "papermill": {
     "duration": 0.0739,
     "end_time": "2021-06-27T05:44:07.873460",
     "exception": false,
     "start_time": "2021-06-27T05:44:07.799560",
     "status": "completed"
    },
    "tags": []
   },
   "outputs": [
    {
     "data": {
      "text/html": [
       "<div>\n",
       "<style scoped>\n",
       "    .dataframe tbody tr th:only-of-type {\n",
       "        vertical-align: middle;\n",
       "    }\n",
       "\n",
       "    .dataframe tbody tr th {\n",
       "        vertical-align: top;\n",
       "    }\n",
       "\n",
       "    .dataframe thead th {\n",
       "        text-align: right;\n",
       "    }\n",
       "</style>\n",
       "<table border=\"1\" class=\"dataframe\">\n",
       "  <thead>\n",
       "    <tr style=\"text-align: right;\">\n",
       "      <th></th>\n",
       "      <th>Age</th>\n",
       "      <th>EstimatedSalary</th>\n",
       "      <th>Purchased</th>\n",
       "    </tr>\n",
       "  </thead>\n",
       "  <tbody>\n",
       "    <tr>\n",
       "      <th>count</th>\n",
       "      <td>400.000000</td>\n",
       "      <td>400.000000</td>\n",
       "      <td>400.000000</td>\n",
       "    </tr>\n",
       "    <tr>\n",
       "      <th>mean</th>\n",
       "      <td>37.655000</td>\n",
       "      <td>69742.500000</td>\n",
       "      <td>0.357500</td>\n",
       "    </tr>\n",
       "    <tr>\n",
       "      <th>std</th>\n",
       "      <td>10.482877</td>\n",
       "      <td>34096.960282</td>\n",
       "      <td>0.479864</td>\n",
       "    </tr>\n",
       "    <tr>\n",
       "      <th>min</th>\n",
       "      <td>18.000000</td>\n",
       "      <td>15000.000000</td>\n",
       "      <td>0.000000</td>\n",
       "    </tr>\n",
       "    <tr>\n",
       "      <th>25%</th>\n",
       "      <td>29.750000</td>\n",
       "      <td>43000.000000</td>\n",
       "      <td>0.000000</td>\n",
       "    </tr>\n",
       "    <tr>\n",
       "      <th>50%</th>\n",
       "      <td>37.000000</td>\n",
       "      <td>70000.000000</td>\n",
       "      <td>0.000000</td>\n",
       "    </tr>\n",
       "    <tr>\n",
       "      <th>75%</th>\n",
       "      <td>46.000000</td>\n",
       "      <td>88000.000000</td>\n",
       "      <td>1.000000</td>\n",
       "    </tr>\n",
       "    <tr>\n",
       "      <th>max</th>\n",
       "      <td>60.000000</td>\n",
       "      <td>150000.000000</td>\n",
       "      <td>1.000000</td>\n",
       "    </tr>\n",
       "  </tbody>\n",
       "</table>\n",
       "</div>"
      ],
      "text/plain": [
       "              Age  EstimatedSalary   Purchased\n",
       "count  400.000000       400.000000  400.000000\n",
       "mean    37.655000     69742.500000    0.357500\n",
       "std     10.482877     34096.960282    0.479864\n",
       "min     18.000000     15000.000000    0.000000\n",
       "25%     29.750000     43000.000000    0.000000\n",
       "50%     37.000000     70000.000000    0.000000\n",
       "75%     46.000000     88000.000000    1.000000\n",
       "max     60.000000    150000.000000    1.000000"
      ]
     },
     "execution_count": 76,
     "metadata": {},
     "output_type": "execute_result"
    }
   ],
   "source": [
    "df.describe()"
   ]
  },
  {
   "cell_type": "markdown",
   "id": "bf199895-abcb-4233-ac8e-68dcb7e0e97b",
   "metadata": {},
   "source": [
    "### Some of the statistical insights of the dataset are as follows:\n",
    "- There aren't any missing values in the dataset.\n",
    "- The mean age is 38, estimated average salary is \\\\$69742.500 and the purchase value is 0.36 : This suggests that the average customer in the dataset is **middle-aged with an above average salary** and the **majority of customers didn't make the purchase**.\n",
    "- The standard deviation of age is 10.48, of salary is \\\\$34096.96 and the purchase value is 0.48, suggesting a broad range of ages(**18-60**) and salaries(**\\\\$15000 - \\\\$150000**) amongst the customer base with a variability in the purchasing decision of the customers.\n",
    "- **25%** of customers are relatively **young**, have **lower salaries** and **did not make the purchase**.\n",
    "- **25%** of customers are are relatively **older**, have **higher salaries** and **purchased the product.**\n",
    "- **50%** of customer base is **below the age of 37**, have a **salary lower than \\\\$70000** and **did not make the purchase.**"
   ]
  },
  {
   "cell_type": "code",
   "execution_count": 77,
   "id": "unexpected-running",
   "metadata": {
    "executionInfo": {
     "elapsed": 15,
     "status": "ok",
     "timestamp": 1624764006437,
     "user": {
      "displayName": "Dave Ng",
      "photoUrl": "https://lh3.googleusercontent.com/a-/AOh14GgonRm27MsGqoj6VBdYHSPgZwrgEH99_VpwU7OMzQ=s64",
      "userId": "11648937927449049695"
     },
     "user_tz": -480
    },
    "id": "cpbSDwkZVYlt",
    "outputId": "e37ab094-6c54-498a-9ddd-bf420ec90d36",
    "papermill": {
     "duration": 0.232616,
     "end_time": "2021-06-27T05:44:08.154402",
     "exception": false,
     "start_time": "2021-06-27T05:44:07.921786",
     "status": "completed"
    },
    "tags": []
   },
   "outputs": [
    {
     "data": {
      "image/png": "[encoded data removed]",
      "text/plain": [
       "<Figure size 1440x720 with 1 Axes>"
      ]
     },
     "metadata": {
      "needs_background": "light"
     },
     "output_type": "display_data"
    }
   ],
   "source": [
    "plt.figure(figsize=(20,10))\n",
    "plt.title('Count of purchased or not: 0 - Not purchased, 1 - Purchased')\n",
    "sns.countplot(data=df,x='Purchased');"
   ]
  },
  {
   "cell_type": "markdown",
   "id": "american-indian",
   "metadata": {
    "id": "LywpxAQYVYlv",
    "papermill": {
     "duration": 0.049245,
     "end_time": "2021-06-27T05:44:08.252360",
     "exception": false,
     "start_time": "2021-06-27T05:44:08.203115",
     "status": "completed"
    },
    "tags": []
   },
   "source": [
    "250 customers did not make a purchase while 150 customers purchased the product.\n",
    "\n",
    "This indicates that there is an imbalance in the data, where the majority of the customers did not make a purchase. This imbalance may be addressed during modeling in order to avoid bias towards the majority class."
   ]
  },
  {
   "cell_type": "code",
   "execution_count": 78,
   "id": "adjustable-sponsorship",
   "metadata": {
    "executionInfo": {
     "elapsed": 814,
     "status": "ok",
     "timestamp": 1624764007240,
     "user": {
      "displayName": "Dave Ng",
      "photoUrl": "https://lh3.googleusercontent.com/a-/AOh14GgonRm27MsGqoj6VBdYHSPgZwrgEH99_VpwU7OMzQ=s64",
      "userId": "11648937927449049695"
     },
     "user_tz": -480
    },
    "id": "Ia8iRW5YVYlv",
    "outputId": "9728ef0f-a989-4574-ee37-d52f75060e2d",
    "papermill": {
     "duration": 0.354379,
     "end_time": "2021-06-27T05:44:08.657148",
     "exception": false,
     "start_time": "2021-06-27T05:44:08.302769",
     "status": "completed"
    },
    "tags": []
   },
   "outputs": [
    {
     "data": {
      "image/png": "[encoded data removed]",
      "text/plain": [
       "<Figure size 1440x720 with 1 Axes>"
      ]
     },
     "metadata": {
      "needs_background": "light"
     },
     "output_type": "display_data"
    }
   ],
   "source": [
    "plt.figure(figsize=(20,10))\n",
    "plt.title('Histogram of Customer Age')\n",
    "sns.histplot(data=df,x='Age',bins=40, kde=True);"
   ]
  },
  {
   "cell_type": "markdown",
   "id": "9b7a9243-b3c2-44c3-9436-94c5eee19056",
   "metadata": {},
   "source": [
    "The kernel density estimation plot on top of the histogram is a way to estimate the probability density function of the Age distribution.\n",
    "\n",
    "The distribution of age is not perfectly symmetrical or unimodal. In fact, it appears to be slightly right-skewed, which in simple words means that there are more customers who are young than old. Additionally, there seems to be two peaks, one at 30-35 and one at 40-45 making it bimodal."
   ]
  },
  {
   "cell_type": "code",
   "execution_count": 79,
   "id": "enormous-matter",
   "metadata": {
    "executionInfo": {
     "elapsed": 13,
     "status": "ok",
     "timestamp": 1624764007242,
     "user": {
      "displayName": "Dave Ng",
      "photoUrl": "https://lh3.googleusercontent.com/a-/AOh14GgonRm27MsGqoj6VBdYHSPgZwrgEH99_VpwU7OMzQ=s64",
      "userId": "11648937927449049695"
     },
     "user_tz": -480
    },
    "id": "g-a9TIJlVYlv",
    "outputId": "e0cc868d-cbda-4e6a-c33f-4d6773ab596c",
    "papermill": {
     "duration": 0.301686,
     "end_time": "2021-06-27T05:44:09.009145",
     "exception": false,
     "start_time": "2021-06-27T05:44:08.707459",
     "status": "completed"
    },
    "tags": []
   },
   "outputs": [
    {
     "data": {
      "image/png": "[encoded data removed]",
      "text/plain": [
       "<Figure size 1440x720 with 1 Axes>"
      ]
     },
     "metadata": {
      "needs_background": "light"
     },
     "output_type": "display_data"
    }
   ],
   "source": [
    "plt.figure(figsize=(20,10))\n",
    "plt.title('Histogram of Estimated Salary')\n",
    "sns.histplot(data=df,x='EstimatedSalary',bins=35, kde=True);"
   ]
  },
  {
   "cell_type": "markdown",
   "id": "6e1b53fc-a163-40d6-b40a-d3417d9fa3c6",
   "metadata": {},
   "source": [
    "The salary distribution also is slightly skewed to the right hand side.\n",
    "- The peak of the histogram is around 50,000 to 80,0000.\n",
    "- There are some high salary values at the right end of the plot that are far from the rest of the data, indicating potential outliers\n"
   ]
  },
  {
   "cell_type": "code",
   "execution_count": 80,
   "id": "posted-jonathan",
   "metadata": {
    "executionInfo": {
     "elapsed": 1260,
     "status": "ok",
     "timestamp": 1624764008492,
     "user": {
      "displayName": "Dave Ng",
      "photoUrl": "https://lh3.googleusercontent.com/a-/AOh14GgonRm27MsGqoj6VBdYHSPgZwrgEH99_VpwU7OMzQ=s64",
      "userId": "11648937927449049695"
     },
     "user_tz": -480
    },
    "id": "yQRGk1v_VYlv",
    "outputId": "e8c640f7-871a-4ff4-ac51-896e73d04309",
    "papermill": {
     "duration": 0.392066,
     "end_time": "2021-06-27T05:44:09.452768",
     "exception": false,
     "start_time": "2021-06-27T05:44:09.060702",
     "status": "completed"
    },
    "tags": []
   },
   "outputs": [
    {
     "data": {
      "image/png": "[encoded data removed]",
      "text/plain": [
       "<Figure size 1440x720 with 1 Axes>"
      ]
     },
     "metadata": {
      "needs_background": "light"
     },
     "output_type": "display_data"
    }
   ],
   "source": [
    "plt.figure(figsize=(20,10))\n",
    "plt.title('Plot of Estimated Salary vs Age vs Purchased')\n",
    "sns.scatterplot(data=df,x='Age',y= 'EstimatedSalary', hue='Purchased', s=100);"
   ]
  },
  {
   "cell_type": "markdown",
   "id": "e9e5ee87-91bf-46c6-86f8-d5ae00191eae",
   "metadata": {},
   "source": [
    "The scatterplot shows the relationship between **Age and Estimated Salary**, with the color indicating whether the individual purchased the product or not.\n",
    "- The non-purchased points are relatively more spread out across both age and Estimated Salary, with a concentration of non-purchased points in the lower Estimated Salary range.\n",
    "- The plot suggests that individuals who purchased the product are generally older, with a concentration of purchased points in the higher age range.\n",
    "    - Additionally, the plot shows that individuals who purchased the product have a wide range of Estimated Salary values, both higher and lower.\n",
    "\n",
    "- The plot suggests that **age and estimated salary are important factors that influence on individual purchase decisions** of a product.\n",
    "\n",
    "\n",
    "\n"
   ]
  },
  {
   "cell_type": "code",
   "execution_count": 81,
   "id": "exact-growing",
   "metadata": {
    "executionInfo": {
     "elapsed": 33,
     "status": "ok",
     "timestamp": 1624764008493,
     "user": {
      "displayName": "Dave Ng",
      "photoUrl": "https://lh3.googleusercontent.com/a-/AOh14GgonRm27MsGqoj6VBdYHSPgZwrgEH99_VpwU7OMzQ=s64",
      "userId": "11648937927449049695"
     },
     "user_tz": -480
    },
    "id": "nRJ43oWnV-1f",
    "outputId": "41ec78c0-62e8-4c72-d7e0-c2784725c78e",
    "papermill": {
     "duration": 0.410482,
     "end_time": "2021-06-27T05:44:09.918169",
     "exception": false,
     "start_time": "2021-06-27T05:44:09.507687",
     "status": "completed"
    },
    "tags": []
   },
   "outputs": [
    {
     "data": {
      "image/png": "[encoded data removed]",
      "text/plain": [
       "<Figure size 864x864 with 2 Axes>"
      ]
     },
     "metadata": {
      "needs_background": "light"
     },
     "output_type": "display_data"
    }
   ],
   "source": [
    "plt.figure(figsize=(12,12))\n",
    "plt.title('Heat map of Correlation')\n",
    "sns.heatmap(data=df.corr(), annot= True);"
   ]
  },
  {
   "cell_type": "markdown",
   "id": "cde5477b-3a7f-4b75-a715-27a9173a7379",
   "metadata": {},
   "source": [
    "- The correlation coefficient of 0.62 indicates a **moderate positive correlation** between Age and Purchased.\n",
    "    - This means that as Age increases, there is a tendency for the individual to make a purchase.\n",
    "- The correlation coefficient between EstimatedSalary and Purchased is 0.36, indicating a **relatively weaker positive correlation**.\n",
    "    - This means that there is a tendency for individuals with higher estimated salaries to make a purchase, but the relationship is not as strong as that between Age and Purchased.\n",
    "- There is little correlation between Age and EstimatedSalary with a correlation coefficient of 0.16, which means that there is **no strong relationship between the two variables- Age and EstimatedSalary**.\n"
   ]
  },
  {
   "cell_type": "markdown",
   "id": "amended-picnic",
   "metadata": {
    "id": "ZKWrmYfDVYlw",
    "papermill": {
     "duration": 0.055986,
     "end_time": "2021-06-27T05:44:10.034315",
     "exception": false,
     "start_time": "2021-06-27T05:44:09.978329",
     "status": "completed"
    },
    "tags": []
   },
   "source": [
    "# 5. Modelling"
   ]
  },
  {
   "cell_type": "code",
   "execution_count": 82,
   "id": "brazilian-investigation",
   "metadata": {
    "executionInfo": {
     "elapsed": 27,
     "status": "ok",
     "timestamp": 1624764008494,
     "user": {
      "displayName": "Dave Ng",
      "photoUrl": "https://lh3.googleusercontent.com/a-/AOh14GgonRm27MsGqoj6VBdYHSPgZwrgEH99_VpwU7OMzQ=s64",
      "userId": "11648937927449049695"
     },
     "user_tz": -480
    },
    "id": "eps7s_caVYlw",
    "outputId": "72be343c-ad24-4808-d1a0-00e3fd0299c6",
    "papermill": {
     "duration": 0.08722,
     "end_time": "2021-06-27T05:44:10.179790",
     "exception": false,
     "start_time": "2021-06-27T05:44:10.092570",
     "status": "completed"
    },
    "tags": []
   },
   "outputs": [
    {
     "data": {
      "text/html": [
       "<div>\n",
       "<style scoped>\n",
       "    .dataframe tbody tr th:only-of-type {\n",
       "        vertical-align: middle;\n",
       "    }\n",
       "\n",
       "    .dataframe tbody tr th {\n",
       "        vertical-align: top;\n",
       "    }\n",
       "\n",
       "    .dataframe thead th {\n",
       "        text-align: right;\n",
       "    }\n",
       "</style>\n",
       "<table border=\"1\" class=\"dataframe\">\n",
       "  <thead>\n",
       "    <tr style=\"text-align: right;\">\n",
       "      <th></th>\n",
       "      <th>Age</th>\n",
       "      <th>EstimatedSalary</th>\n",
       "      <th>Purchased</th>\n",
       "    </tr>\n",
       "  </thead>\n",
       "  <tbody>\n",
       "    <tr>\n",
       "      <th>0</th>\n",
       "      <td>19</td>\n",
       "      <td>19000</td>\n",
       "      <td>0</td>\n",
       "    </tr>\n",
       "    <tr>\n",
       "      <th>1</th>\n",
       "      <td>35</td>\n",
       "      <td>20000</td>\n",
       "      <td>0</td>\n",
       "    </tr>\n",
       "    <tr>\n",
       "      <th>2</th>\n",
       "      <td>26</td>\n",
       "      <td>43000</td>\n",
       "      <td>0</td>\n",
       "    </tr>\n",
       "    <tr>\n",
       "      <th>3</th>\n",
       "      <td>27</td>\n",
       "      <td>57000</td>\n",
       "      <td>0</td>\n",
       "    </tr>\n",
       "    <tr>\n",
       "      <th>4</th>\n",
       "      <td>19</td>\n",
       "      <td>76000</td>\n",
       "      <td>0</td>\n",
       "    </tr>\n",
       "  </tbody>\n",
       "</table>\n",
       "</div>"
      ],
      "text/plain": [
       "   Age  EstimatedSalary  Purchased\n",
       "0   19            19000          0\n",
       "1   35            20000          0\n",
       "2   26            43000          0\n",
       "3   27            57000          0\n",
       "4   19            76000          0"
      ]
     },
     "execution_count": 82,
     "metadata": {},
     "output_type": "execute_result"
    }
   ],
   "source": [
    "df.head()"
   ]
  },
  {
   "cell_type": "code",
   "execution_count": 83,
   "id": "compressed-isolation",
   "metadata": {
    "executionInfo": {
     "elapsed": 25,
     "status": "ok",
     "timestamp": 1624764008495,
     "user": {
      "displayName": "Dave Ng",
      "photoUrl": "https://lh3.googleusercontent.com/a-/AOh14GgonRm27MsGqoj6VBdYHSPgZwrgEH99_VpwU7OMzQ=s64",
      "userId": "11648937927449049695"
     },
     "user_tz": -480
    },
    "id": "Zj1tcs7dWl4Z",
    "outputId": "c5f949b4-6338-4ec3-8d25-aa89464706e2",
    "papermill": {
     "duration": 0.076686,
     "end_time": "2021-06-27T05:44:10.323204",
     "exception": false,
     "start_time": "2021-06-27T05:44:10.246518",
     "status": "completed"
    },
    "tags": []
   },
   "outputs": [
    {
     "data": {
      "text/plain": [
       "Age                0\n",
       "EstimatedSalary    0\n",
       "Purchased          0\n",
       "dtype: int64"
      ]
     },
     "execution_count": 83,
     "metadata": {},
     "output_type": "execute_result"
    }
   ],
   "source": [
    "df.isnull().sum()"
   ]
  },
  {
   "cell_type": "markdown",
   "id": "1b2b7221-1e3f-4beb-8aec-647683c7549c",
   "metadata": {},
   "source": [
    "X is a dataframe that contains the input features or independent variables of the model. It is created by dropping the Purchased column from the original dataframe df using the drop() function along the axis=1 (alonbg the columns).\n",
    "\n",
    "y is a series that contains the target variable or dependent variable of the model. It is created by selecting the Purchased column from the original dataframe df. This column represents whether or not a customer has purchased the product."
   ]
  },
  {
   "cell_type": "code",
   "execution_count": 84,
   "id": "civic-antibody",
   "metadata": {
    "executionInfo": {
     "elapsed": 23,
     "status": "ok",
     "timestamp": 1624764008496,
     "user": {
      "displayName": "Dave Ng",
      "photoUrl": "https://lh3.googleusercontent.com/a-/AOh14GgonRm27MsGqoj6VBdYHSPgZwrgEH99_VpwU7OMzQ=s64",
      "userId": "11648937927449049695"
     },
     "user_tz": -480
    },
    "id": "4QM9bJ2nWTFl",
    "papermill": {
     "duration": 0.072991,
     "end_time": "2021-06-27T05:44:10.465343",
     "exception": false,
     "start_time": "2021-06-27T05:44:10.392352",
     "status": "completed"
    },
    "tags": []
   },
   "outputs": [],
   "source": [
    "X = df.drop('Purchased', axis=1)\n",
    "y = df['Purchased']"
   ]
  },
  {
   "cell_type": "markdown",
   "id": "89abc294-2c9d-4709-871e-25d5cf1ac9e4",
   "metadata": {},
   "source": [
    "I am splitting the data into a ratio of 80:20 (20% of the data will be used for testing and 80% will be used for training). The random_state parameter is set to 42 to ensure that the random split is reproducible."
   ]
  },
  {
   "cell_type": "code",
   "execution_count": 85,
   "id": "liberal-tractor",
   "metadata": {
    "executionInfo": {
     "elapsed": 24,
     "status": "ok",
     "timestamp": 1624764008500,
     "user": {
      "displayName": "Dave Ng",
      "photoUrl": "https://lh3.googleusercontent.com/a-/AOh14GgonRm27MsGqoj6VBdYHSPgZwrgEH99_VpwU7OMzQ=s64",
      "userId": "11648937927449049695"
     },
     "user_tz": -480
    },
    "id": "5eng0G7qWq-H",
    "papermill": {
     "duration": 0.069157,
     "end_time": "2021-06-27T05:44:10.964277",
     "exception": false,
     "start_time": "2021-06-27T05:44:10.895120",
     "status": "completed"
    },
    "tags": []
   },
   "outputs": [],
   "source": [
    "X_train, X_test, y_train, y_test = train_test_split(X, y, test_size=0.2, random_state=42)"
   ]
  },
  {
   "cell_type": "markdown",
   "id": "7e56e0f3-2c2c-428f-9138-1cbfefd0f21e",
   "metadata": {},
   "source": [
    "The resulting variables X_train, X_test, y_train, and y_test contain the training and testing sets of input features and output labels. These sets will be used to train and evaluate the performance of the machine learning model."
   ]
  },
  {
   "cell_type": "markdown",
   "id": "14ca5a74-c75c-4cba-94df-be306e0faec9",
   "metadata": {},
   "source": [
    "## Feature Scaling \n",
    "\n",
    "Feature scaling is generally necessary when there are significant differences in the scales of the features in a dataset. This can cause some machine learning algorithms to perform poorly or take longer to converge.\n",
    "\n",
    "Since the range of the values of age and salary are large, it is very likely that feature scaling would be extremely beneficial. Additionally, the features age and salart have different units of measurement, therefore in such scenarios it is usually recommended to perform feature scaling to ensure each feature contributes equally to the analysis."
   ]
  },
  {
   "cell_type": "code",
   "execution_count": 86,
   "id": "pregnant-zealand",
   "metadata": {
    "executionInfo": {
     "elapsed": 25,
     "status": "ok",
     "timestamp": 1624764008501,
     "user": {
      "displayName": "Dave Ng",
      "photoUrl": "https://lh3.googleusercontent.com/a-/AOh14GgonRm27MsGqoj6VBdYHSPgZwrgEH99_VpwU7OMzQ=s64",
      "userId": "11648937927449049695"
     },
     "user_tz": -480
    },
    "id": "a2QrDlaZWs7v",
    "papermill": {
     "duration": 0.073403,
     "end_time": "2021-06-27T05:44:11.094858",
     "exception": false,
     "start_time": "2021-06-27T05:44:11.021455",
     "status": "completed"
    },
    "tags": []
   },
   "outputs": [],
   "source": [
    "scaler = StandardScaler()\n",
    "X_train = scaler.fit_transform(X_train)\n",
    "X_test = scaler.transform(X_test)"
   ]
  },
  {
   "cell_type": "markdown",
   "id": "juvenile-ballot",
   "metadata": {
    "id": "I-c22G6sXJVB",
    "papermill": {
     "duration": 0.057582,
     "end_time": "2021-06-27T05:44:12.073397",
     "exception": false,
     "start_time": "2021-06-27T05:44:12.015815",
     "status": "completed"
    },
    "tags": []
   },
   "source": [
    "## Baseline Modeling\n",
    "\n",
    "`A baseline model is a simple and basic model that we start with before we try to build more advanced and complex models in machine learning. We use this basic model as a reference point to compare and evaluate the performance of the advanced models that we build later. The baseline model helps us to set a minimum level of performance that other models must exceed to be considered useful.`\n",
    "\n",
    "A baseline model may be something as simple as predicting the most common class for a classification problem, or the mean value for a regression problem. For example, in a binary classification problem with an imbalanced dataset where the majority class is 90% of the data, a baseline model that always predicts the majority class will have an accuracy of 90%. Therefore, any more advanced models must have an accuracy higher than 90% to be considered useful.\n",
    "\n",
    "Baseline models are important because they provide a starting point for building and evaluating more complex models. They can help to identify if a more advanced model is actually improving the performance or if it is not much better than the baseline. Additionally, baseline models can be useful as a reference point for comparing the performance of different models or approaches."
   ]
  },
  {
   "cell_type": "code",
   "execution_count": 87,
   "id": "living-madrid",
   "metadata": {
    "executionInfo": {
     "elapsed": 23,
     "status": "ok",
     "timestamp": 1624764008502,
     "user": {
      "displayName": "Dave Ng",
      "photoUrl": "https://lh3.googleusercontent.com/a-/AOh14GgonRm27MsGqoj6VBdYHSPgZwrgEH99_VpwU7OMzQ=s64",
      "userId": "11648937927449049695"
     },
     "user_tz": -480
    },
    "id": "IIN-V1VdXN15",
    "papermill": {
     "duration": 0.068349,
     "end_time": "2021-06-27T05:44:12.199590",
     "exception": false,
     "start_time": "2021-06-27T05:44:12.131241",
     "status": "completed"
    },
    "tags": []
   },
   "outputs": [],
   "source": [
    "def fit_and_score(models, X_train, X_test, y_train, y_test):\n",
    "    np.random.seed(42)\n",
    "    \n",
    "    model_scores = {}\n",
    "    \n",
    "    for name, model in models.items():\n",
    "        model.fit(X_train,y_train)\n",
    "        model_scores[name] = model.score(X_test,y_test)\n",
    "\n",
    "    model_scores = pd.DataFrame(model_scores, index=['Score']).transpose()\n",
    "    model_scores = model_scores.sort_values('Score')\n",
    "        \n",
    "    return model_scores"
   ]
  },
  {
   "cell_type": "code",
   "execution_count": 88,
   "id": "pretty-glenn",
   "metadata": {
    "executionInfo": {
     "elapsed": 23,
     "status": "ok",
     "timestamp": 1624764008503,
     "user": {
      "displayName": "Dave Ng",
      "photoUrl": "https://lh3.googleusercontent.com/a-/AOh14GgonRm27MsGqoj6VBdYHSPgZwrgEH99_VpwU7OMzQ=s64",
      "userId": "11648937927449049695"
     },
     "user_tz": -480
    },
    "id": "_UnVcg6wXYPT",
    "papermill": {
     "duration": 0.066322,
     "end_time": "2021-06-27T05:44:12.324786",
     "exception": false,
     "start_time": "2021-06-27T05:44:12.258464",
     "status": "completed"
    },
    "tags": []
   },
   "outputs": [],
   "source": [
    "models = {'LogisticRegression': LogisticRegression(max_iter=10000),\n",
    "          'KNeighborsClassifier': KNeighborsClassifier(),\n",
    "          'SVC': SVC(),\n",
    "          'DecisionTreeClassifier': DecisionTreeClassifier(),\n",
    "          'RandomForestClassifier': RandomForestClassifier(),\n",
    "          'AdaBoostClassifier': AdaBoostClassifier(),\n",
    "          'GradientBoostingClassifier': GradientBoostingClassifier(),\n",
    "          'XGBClassifier': XGBClassifier(eval_metric='mlogloss'),\n",
    "          'XGBRFClassifier': XGBRFClassifier(eval_metric='mlogloss')}"
   ]
  },
  {
   "cell_type": "code",
   "execution_count": 89,
   "id": "experimental-approval",
   "metadata": {
    "executionInfo": {
     "elapsed": 652,
     "status": "ok",
     "timestamp": 1624764009133,
     "user": {
      "displayName": "Dave Ng",
      "photoUrl": "https://lh3.googleusercontent.com/a-/AOh14GgonRm27MsGqoj6VBdYHSPgZwrgEH99_VpwU7OMzQ=s64",
      "userId": "11648937927449049695"
     },
     "user_tz": -480
    },
    "id": "JcGxitWtXdrT",
    "papermill": {
     "duration": 0.5751,
     "end_time": "2021-06-27T05:44:12.957831",
     "exception": false,
     "start_time": "2021-06-27T05:44:12.382731",
     "status": "completed"
    },
    "tags": []
   },
   "outputs": [],
   "source": [
    "baseline_model_scores = fit_and_score(models, X_train, X_test, y_train, y_test)"
   ]
  },
  {
   "cell_type": "code",
   "execution_count": 90,
   "id": "sophisticated-oliver",
   "metadata": {
    "executionInfo": {
     "elapsed": 36,
     "status": "ok",
     "timestamp": 1624764009136,
     "user": {
      "displayName": "Dave Ng",
      "photoUrl": "https://lh3.googleusercontent.com/a-/AOh14GgonRm27MsGqoj6VBdYHSPgZwrgEH99_VpwU7OMzQ=s64",
      "userId": "11648937927449049695"
     },
     "user_tz": -480
    },
    "id": "eC-N_ShJXheG",
    "outputId": "974c7d44-dbcf-4e60-b118-62a5cc4232ec",
    "papermill": {
     "duration": 0.071323,
     "end_time": "2021-06-27T05:44:13.088394",
     "exception": false,
     "start_time": "2021-06-27T05:44:13.017071",
     "status": "completed"
    },
    "tags": []
   },
   "outputs": [
    {
     "data": {
      "text/html": [
       "<div>\n",
       "<style scoped>\n",
       "    .dataframe tbody tr th:only-of-type {\n",
       "        vertical-align: middle;\n",
       "    }\n",
       "\n",
       "    .dataframe tbody tr th {\n",
       "        vertical-align: top;\n",
       "    }\n",
       "\n",
       "    .dataframe thead th {\n",
       "        text-align: right;\n",
       "    }\n",
       "</style>\n",
       "<table border=\"1\" class=\"dataframe\">\n",
       "  <thead>\n",
       "    <tr style=\"text-align: right;\">\n",
       "      <th></th>\n",
       "      <th>Score</th>\n",
       "    </tr>\n",
       "  </thead>\n",
       "  <tbody>\n",
       "    <tr>\n",
       "      <th>DecisionTreeClassifier</th>\n",
       "      <td>0.8375</td>\n",
       "    </tr>\n",
       "    <tr>\n",
       "      <th>LogisticRegression</th>\n",
       "      <td>0.8625</td>\n",
       "    </tr>\n",
       "    <tr>\n",
       "      <th>GradientBoostingClassifier</th>\n",
       "      <td>0.8625</td>\n",
       "    </tr>\n",
       "    <tr>\n",
       "      <th>RandomForestClassifier</th>\n",
       "      <td>0.8875</td>\n",
       "    </tr>\n",
       "    <tr>\n",
       "      <th>AdaBoostClassifier</th>\n",
       "      <td>0.8875</td>\n",
       "    </tr>\n",
       "    <tr>\n",
       "      <th>KNeighborsClassifier</th>\n",
       "      <td>0.9125</td>\n",
       "    </tr>\n",
       "    <tr>\n",
       "      <th>XGBClassifier</th>\n",
       "      <td>0.9125</td>\n",
       "    </tr>\n",
       "    <tr>\n",
       "      <th>SVC</th>\n",
       "      <td>0.9250</td>\n",
       "    </tr>\n",
       "    <tr>\n",
       "      <th>XGBRFClassifier</th>\n",
       "      <td>0.9250</td>\n",
       "    </tr>\n",
       "  </tbody>\n",
       "</table>\n",
       "</div>"
      ],
      "text/plain": [
       "                             Score\n",
       "DecisionTreeClassifier      0.8375\n",
       "LogisticRegression          0.8625\n",
       "GradientBoostingClassifier  0.8625\n",
       "RandomForestClassifier      0.8875\n",
       "AdaBoostClassifier          0.8875\n",
       "KNeighborsClassifier        0.9125\n",
       "XGBClassifier               0.9125\n",
       "SVC                         0.9250\n",
       "XGBRFClassifier             0.9250"
      ]
     },
     "execution_count": 90,
     "metadata": {},
     "output_type": "execute_result"
    }
   ],
   "source": [
    "baseline_model_scores.sort_values('Score')"
   ]
  },
  {
   "cell_type": "code",
   "execution_count": 91,
   "id": "choice-polish",
   "metadata": {
    "executionInfo": {
     "elapsed": 34,
     "status": "ok",
     "timestamp": 1624764009138,
     "user": {
      "displayName": "Dave Ng",
      "photoUrl": "https://lh3.googleusercontent.com/a-/AOh14GgonRm27MsGqoj6VBdYHSPgZwrgEH99_VpwU7OMzQ=s64",
      "userId": "11648937927449049695"
     },
     "user_tz": -480
    },
    "id": "71z0hbS3Xi8L",
    "outputId": "4a6454ce-beee-4e65-8a26-e8f3058e8397",
    "papermill": {
     "duration": 0.286025,
     "end_time": "2021-06-27T05:44:13.434547",
     "exception": false,
     "start_time": "2021-06-27T05:44:13.148522",
     "status": "completed"
    },
    "tags": []
   },
   "outputs": [
    {
     "data": {
      "image/png": "[encoded data removed]",
      "text/plain": [
       "<Figure size 1440x720 with 1 Axes>"
      ]
     },
     "metadata": {
      "needs_background": "light"
     },
     "output_type": "display_data"
    }
   ],
   "source": [
    "plt.figure(figsize=(20,10))\n",
    "sns.barplot(data=baseline_model_scores.sort_values('Score').T)\n",
    "plt.title('Baseline Model Precision Score')\n",
    "plt.xticks(rotation=90);"
   ]
  },
  {
   "cell_type": "markdown",
   "id": "decimal-while",
   "metadata": {
    "id": "fb5o6tebXmKd",
    "papermill": {
     "duration": 0.05911,
     "end_time": "2021-06-27T05:44:13.555229",
     "exception": false,
     "start_time": "2021-06-27T05:44:13.496119",
     "status": "completed"
    },
    "tags": []
   },
   "source": [
    "From the baseline modeling, I have chosen the following model to have an in-depth look:\n",
    "\n",
    "1. KNeighborsClassifier \t0.9125\n",
    "2. XGBClassifier \t0.9125\n",
    "3. XGBRFClassifier \t0.9125\n",
    "4. SVC \t0.9250"
   ]
  },
  {
   "cell_type": "markdown",
   "id": "developed-speaker",
   "metadata": {
    "id": "wzIK2idhY7AC",
    "papermill": {
     "duration": 0.058233,
     "end_time": "2021-06-27T05:44:13.671871",
     "exception": false,
     "start_time": "2021-06-27T05:44:13.613638",
     "status": "completed"
    },
    "tags": []
   },
   "source": [
    "## HyperTuning using Random Search CV"
   ]
  },
  {
   "cell_type": "markdown",
   "id": "60dfd5fa-cb9a-4faf-9f33-f7c6e256b8e3",
   "metadata": {
    "execution": {
     "iopub.execute_input": "2021-06-27T05:44:13.797424Z",
     "iopub.status.busy": "2021-06-27T05:44:13.796428Z",
     "iopub.status.idle": "2021-06-27T05:44:13.799802Z",
     "shell.execute_reply": "2021-06-27T05:44:13.799252Z",
     "shell.execute_reply.started": "2021-06-27T05:32:47.992365Z"
    },
    "executionInfo": {
     "elapsed": 383,
     "status": "ok",
     "timestamp": 1624764815176,
     "user": {
      "displayName": "Dave Ng",
      "photoUrl": "https://lh3.googleusercontent.com/a-/AOh14GgonRm27MsGqoj6VBdYHSPgZwrgEH99_VpwU7OMzQ=s64",
      "userId": "11648937927449049695"
     },
     "user_tz": -480
    },
    "id": "U8QZJqN9ZAun",
    "papermill": {
     "duration": 0.066339,
     "end_time": "2021-06-27T05:44:13.799939",
     "exception": false,
     "start_time": "2021-06-27T05:44:13.733600",
     "status": "completed"
    },
    "tags": []
   },
   "source": [
    "Hyperparameter tuning using Random Search CV is a technique used to optimize the performance of a machine learning model by tuning its hyperparameters. Hyperparameters are parameters that are set prior to training a model and are not learned during training. They can have a significant impact on the model's performance, and finding the optimal values for these hyperparameters can improve the accuracy and generalizability of the model."
   ]
  },
  {
   "cell_type": "code",
   "execution_count": 92,
   "id": "standing-matrix",
   "metadata": {
    "executionInfo": {
     "elapsed": 6,
     "status": "ok",
     "timestamp": 1624764815764,
     "user": {
      "displayName": "Dave Ng",
      "photoUrl": "https://lh3.googleusercontent.com/a-/AOh14GgonRm27MsGqoj6VBdYHSPgZwrgEH99_VpwU7OMzQ=s64",
      "userId": "11648937927449049695"
     },
     "user_tz": -480
    },
    "id": "iRH2mMnIZGXn",
    "papermill": {
     "duration": 0.066263,
     "end_time": "2021-06-27T05:44:13.924584",
     "exception": false,
     "start_time": "2021-06-27T05:44:13.858321",
     "status": "completed"
    },
    "tags": []
   },
   "outputs": [],
   "source": [
    "filterwarnings('ignore')"
   ]
  },
  {
   "cell_type": "markdown",
   "id": "5d024e9c-1f56-4e72-81af-20879550f348",
   "metadata": {},
   "source": [
    "**Random Search CV** is a method of hyperparameter tuning that involves randomly selecting a set of hyperparameters from a search space and evaluating the model's performance using cross-validation. By repeating this process with different sets of hyperparameters, the optimal combination can be found."
   ]
  },
  {
   "cell_type": "code",
   "execution_count": 93,
   "id": "combined-prime",
   "metadata": {
    "executionInfo": {
     "elapsed": 5,
     "status": "ok",
     "timestamp": 1624764815765,
     "user": {
      "displayName": "Dave Ng",
      "photoUrl": "https://lh3.googleusercontent.com/a-/AOh14GgonRm27MsGqoj6VBdYHSPgZwrgEH99_VpwU7OMzQ=s64",
      "userId": "11648937927449049695"
     },
     "user_tz": -480
    },
    "id": "KUfhzOvDZP_d",
    "papermill": {
     "duration": 0.068204,
     "end_time": "2021-06-27T05:44:14.051045",
     "exception": false,
     "start_time": "2021-06-27T05:44:13.982841",
     "status": "completed"
    },
    "tags": []
   },
   "outputs": [],
   "source": [
    "def randomsearch_cv_scores(models, params, X_train, X_test, y_train, y_test):\n",
    "    np.random.seed(42)\n",
    "    \n",
    "    model_rs_scores = {}\n",
    "    model_rs_best_param = {}\n",
    "    \n",
    "    for name, model in models.items():\n",
    "        rs_model = RandomizedSearchCV(model,\n",
    "                                     param_distributions=params[name],\n",
    "                                     cv=5,\n",
    "                                     n_iter=20,\n",
    "                                     verbose=1)\n",
    "        rs_model.fit(X_train,y_train)\n",
    "        model_rs_scores[name] = rs_model.score(X_test,y_test)\n",
    "        model_rs_best_param[name] = rs_model.best_params_\n",
    "        \n",
    "    return model_rs_scores, model_rs_best_param"
   ]
  },
  {
   "cell_type": "markdown",
   "id": "front-mumbai",
   "metadata": {
    "id": "fCbitPt2Z5HZ",
    "papermill": {
     "duration": 0.058435,
     "end_time": "2021-06-27T05:44:14.167868",
     "exception": false,
     "start_time": "2021-06-27T05:44:14.109433",
     "status": "completed"
    },
    "tags": []
   },
   "source": [
    "### RandomSearch CV 1"
   ]
  },
  {
   "cell_type": "code",
   "execution_count": 94,
   "id": "saved-provincial",
   "metadata": {
    "executionInfo": {
     "elapsed": 3,
     "status": "ok",
     "timestamp": 1624764816175,
     "user": {
      "displayName": "Dave Ng",
      "photoUrl": "https://lh3.googleusercontent.com/a-/AOh14GgonRm27MsGqoj6VBdYHSPgZwrgEH99_VpwU7OMzQ=s64",
      "userId": "11648937927449049695"
     },
     "user_tz": -480
    },
    "id": "2VSvGOtEZ-lI",
    "papermill": {
     "duration": 0.072681,
     "end_time": "2021-06-27T05:44:14.298802",
     "exception": false,
     "start_time": "2021-06-27T05:44:14.226121",
     "status": "completed"
    },
    "tags": []
   },
   "outputs": [],
   "source": [
    "params = {'KNeighborsClassifier' : {'n_neighbors': np.arange(1,100,10)},\n",
    "          'XGBClassifier': {'learning_rate': np.linspace(0,1,20),\n",
    "                            'gamma': [0,2,4,10,20,50],\n",
    "                            'max_depth': [2,3,6,10,20],\n",
    "                            'lambda': [0,1],\n",
    "                            'alpha' : [0,0.1,0.2,0.5,0.8,1],\n",
    "                            },\n",
    "          'XGBRFClassifier': {'learning_rate': np.linspace(0,1,20),\n",
    "                              'max_depth': [2,3,6,10,20],\n",
    "                              },\n",
    "          'SVC' : {'C': [0.1,0.5,1, 10,100,500], \n",
    "                   'kernel':['linear', 'poly', 'rbf','sigmoid'],\n",
    "                   'gamma':['scale','auto'],\n",
    "                   'degree':[2,3,4,5,6,7]}\n",
    "          }\n",
    "models = {'KNeighborsClassifier': KNeighborsClassifier(),\n",
    "         'XGBClassifier': XGBClassifier(eval_metric='mlogloss'),\n",
    "         'XGBRFClassifier': XGBRFClassifier(eval_metric='mlogloss'),\n",
    "         'SVC': SVC()\n",
    "         }"
   ]
  },
  {
   "cell_type": "code",
   "execution_count": 95,
   "id": "obvious-original",
   "metadata": {
    "executionInfo": {
     "elapsed": 4166,
     "status": "ok",
     "timestamp": 1624764820742,
     "user": {
      "displayName": "Dave Ng",
      "photoUrl": "https://lh3.googleusercontent.com/a-/AOh14GgonRm27MsGqoj6VBdYHSPgZwrgEH99_VpwU7OMzQ=s64",
      "userId": "11648937927449049695"
     },
     "user_tz": -480
    },
    "id": "6lBmr49kc6rt",
    "outputId": "49581f4c-0cc2-4064-9db7-3bd6cdc8f3f4",
    "papermill": {
     "duration": 8.762669,
     "end_time": "2021-06-27T05:44:23.120188",
     "exception": false,
     "start_time": "2021-06-27T05:44:14.357519",
     "status": "completed"
    },
    "tags": []
   },
   "outputs": [
    {
     "name": "stdout",
     "output_type": "stream",
     "text": [
      "Fitting 5 folds for each of 10 candidates, totalling 50 fits\n",
      "Fitting 5 folds for each of 20 candidates, totalling 100 fits\n",
      "Fitting 5 folds for each of 20 candidates, totalling 100 fits\n",
      "Fitting 5 folds for each of 20 candidates, totalling 100 fits\n"
     ]
    }
   ],
   "source": [
    "model_rs_scores_1, model_rs_best_param_1 = randomsearch_cv_scores(models, params, X_train, X_test, y_train, y_test)"
   ]
  },
  {
   "cell_type": "code",
   "execution_count": 96,
   "id": "august-visitor",
   "metadata": {
    "executionInfo": {
     "elapsed": 14,
     "status": "ok",
     "timestamp": 1624764820744,
     "user": {
      "displayName": "Dave Ng",
      "photoUrl": "https://lh3.googleusercontent.com/a-/AOh14GgonRm27MsGqoj6VBdYHSPgZwrgEH99_VpwU7OMzQ=s64",
      "userId": "11648937927449049695"
     },
     "user_tz": -480
    },
    "id": "UppWM27mdDAV",
    "outputId": "2019771d-50f1-4d84-acb8-9e85a1dc4713",
    "papermill": {
     "duration": 0.067879,
     "end_time": "2021-06-27T05:44:23.248472",
     "exception": false,
     "start_time": "2021-06-27T05:44:23.180593",
     "status": "completed"
    },
    "tags": []
   },
   "outputs": [
    {
     "data": {
      "text/plain": [
       "{'KNeighborsClassifier': 0.925,\n",
       " 'XGBClassifier': 0.9125,\n",
       " 'XGBRFClassifier': 0.9125,\n",
       " 'SVC': 0.9375}"
      ]
     },
     "execution_count": 96,
     "metadata": {},
     "output_type": "execute_result"
    }
   ],
   "source": [
    "model_rs_scores_1\n"
   ]
  },
  {
   "cell_type": "code",
   "execution_count": 97,
   "id": "common-projector",
   "metadata": {
    "executionInfo": {
     "elapsed": 9,
     "status": "ok",
     "timestamp": 1624764820745,
     "user": {
      "displayName": "Dave Ng",
      "photoUrl": "https://lh3.googleusercontent.com/a-/AOh14GgonRm27MsGqoj6VBdYHSPgZwrgEH99_VpwU7OMzQ=s64",
      "userId": "11648937927449049695"
     },
     "user_tz": -480
    },
    "id": "gQdbGJXxfPe-",
    "outputId": "6a2d93a3-d8f4-4a19-c22f-009334455317",
    "papermill": {
     "duration": 0.06944,
     "end_time": "2021-06-27T05:44:23.377853",
     "exception": false,
     "start_time": "2021-06-27T05:44:23.308413",
     "status": "completed"
    },
    "tags": []
   },
   "outputs": [
    {
     "data": {
      "text/plain": [
       "{'KNeighborsClassifier': {'n_neighbors': 11},\n",
       " 'XGBClassifier': {'max_depth': 2,\n",
       "  'learning_rate': 0.631578947368421,\n",
       "  'lambda': 0,\n",
       "  'gamma': 20,\n",
       "  'alpha': 0},\n",
       " 'XGBRFClassifier': {'max_depth': 2, 'learning_rate': 0.47368421052631576},\n",
       " 'SVC': {'kernel': 'rbf', 'gamma': 'scale', 'degree': 7, 'C': 0.5}}"
      ]
     },
     "execution_count": 97,
     "metadata": {},
     "output_type": "execute_result"
    }
   ],
   "source": [
    "model_rs_best_param_1"
   ]
  },
  {
   "cell_type": "markdown",
   "id": "special-sponsorship",
   "metadata": {
    "id": "xSJ217mxiCFB",
    "papermill": {
     "duration": 0.059969,
     "end_time": "2021-06-27T05:44:23.499588",
     "exception": false,
     "start_time": "2021-06-27T05:44:23.439619",
     "status": "completed"
    },
    "tags": []
   },
   "source": [
    "## RandomSearch CV 2"
   ]
  },
  {
   "cell_type": "code",
   "execution_count": 98,
   "id": "gentle-television",
   "metadata": {
    "executionInfo": {
     "elapsed": 385,
     "status": "ok",
     "timestamp": 1624765087061,
     "user": {
      "displayName": "Dave Ng",
      "photoUrl": "https://lh3.googleusercontent.com/a-/AOh14GgonRm27MsGqoj6VBdYHSPgZwrgEH99_VpwU7OMzQ=s64",
      "userId": "11648937927449049695"
     },
     "user_tz": -480
    },
    "id": "UktWmo1DhwjT",
    "papermill": {
     "duration": 0.074657,
     "end_time": "2021-06-27T05:44:23.636785",
     "exception": false,
     "start_time": "2021-06-27T05:44:23.562128",
     "status": "completed"
    },
    "tags": []
   },
   "outputs": [],
   "source": [
    "params = {'KNeighborsClassifier' : {'n_neighbors': np.arange(1,15)},\n",
    "          'XGBClassifier': {'learning_rate': [0.631578947368421],\n",
    "                            'gamma': [15,20,25],\n",
    "                            'max_depth': [2],\n",
    "                            'lambda': [0,1],\n",
    "                            'alpha' : [0],\n",
    "                            },\n",
    "          'XGBRFClassifier': {'learning_rate': [0.47368421052631576],\n",
    "                              'max_depth': [2],\n",
    "                              },\n",
    "          'SVC' : {'C': [0.3,0.4,0.5,0.6,0.7], \n",
    "                   'kernel':['rbf'],\n",
    "                   'gamma':['scale'],\n",
    "                   'degree':[7,8,9,10,15,20]}\n",
    "          }\n",
    "models = {'KNeighborsClassifier': KNeighborsClassifier(),\n",
    "         'XGBClassifier': XGBClassifier(eval_metric='mlogloss'),\n",
    "         'XGBRFClassifier': XGBRFClassifier(eval_metric='mlogloss'),\n",
    "         'SVC': SVC()\n",
    "         }"
   ]
  },
  {
   "cell_type": "code",
   "execution_count": 99,
   "id": "attempted-register",
   "metadata": {
    "executionInfo": {
     "elapsed": 1526,
     "status": "ok",
     "timestamp": 1624765101440,
     "user": {
      "displayName": "Dave Ng",
      "photoUrl": "https://lh3.googleusercontent.com/a-/AOh14GgonRm27MsGqoj6VBdYHSPgZwrgEH99_VpwU7OMzQ=s64",
      "userId": "11648937927449049695"
     },
     "user_tz": -480
    },
    "id": "4Wb1h_ini7mi",
    "outputId": "c9fe545a-c212-44ef-897f-db35bd11e829",
    "papermill": {
     "duration": 1.93477,
     "end_time": "2021-06-27T05:44:25.632818",
     "exception": false,
     "start_time": "2021-06-27T05:44:23.698048",
     "status": "completed"
    },
    "tags": []
   },
   "outputs": [
    {
     "name": "stdout",
     "output_type": "stream",
     "text": [
      "Fitting 5 folds for each of 14 candidates, totalling 70 fits\n",
      "Fitting 5 folds for each of 6 candidates, totalling 30 fits\n",
      "Fitting 5 folds for each of 1 candidates, totalling 5 fits\n",
      "Fitting 5 folds for each of 20 candidates, totalling 100 fits\n"
     ]
    }
   ],
   "source": [
    "model_rs_scores_2, model_rs_best_param_2 = randomsearch_cv_scores(models, params, X_train, X_test, y_train, y_test)"
   ]
  },
  {
   "cell_type": "code",
   "execution_count": 100,
   "id": "pending-ideal",
   "metadata": {
    "executionInfo": {
     "elapsed": 386,
     "status": "ok",
     "timestamp": 1624765175768,
     "user": {
      "displayName": "Dave Ng",
      "photoUrl": "https://lh3.googleusercontent.com/a-/AOh14GgonRm27MsGqoj6VBdYHSPgZwrgEH99_VpwU7OMzQ=s64",
      "userId": "11648937927449049695"
     },
     "user_tz": -480
    },
    "id": "Y4ndAFvMi-rF",
    "outputId": "8a763436-c7e1-4e8d-e404-db4e0778f0e0",
    "papermill": {
     "duration": 0.076897,
     "end_time": "2021-06-27T05:44:25.771845",
     "exception": false,
     "start_time": "2021-06-27T05:44:25.694948",
     "status": "completed"
    },
    "tags": []
   },
   "outputs": [
    {
     "data": {
      "text/plain": [
       "{'KNeighborsClassifier': 0.9375,\n",
       " 'XGBClassifier': 0.9125,\n",
       " 'XGBRFClassifier': 0.9125,\n",
       " 'SVC': 0.925}"
      ]
     },
     "execution_count": 100,
     "metadata": {},
     "output_type": "execute_result"
    }
   ],
   "source": [
    "model_rs_scores_2"
   ]
  },
  {
   "cell_type": "code",
   "execution_count": 101,
   "id": "designing-asset",
   "metadata": {
    "executionInfo": {
     "elapsed": 401,
     "status": "ok",
     "timestamp": 1624765178315,
     "user": {
      "displayName": "Dave Ng",
      "photoUrl": "https://lh3.googleusercontent.com/a-/AOh14GgonRm27MsGqoj6VBdYHSPgZwrgEH99_VpwU7OMzQ=s64",
      "userId": "11648937927449049695"
     },
     "user_tz": -480
    },
    "id": "wTS_dyNdjRQr",
    "outputId": "c64891fe-a30e-4589-fca1-401f6ebec585",
    "papermill": {
     "duration": 0.070294,
     "end_time": "2021-06-27T05:44:25.904025",
     "exception": false,
     "start_time": "2021-06-27T05:44:25.833731",
     "status": "completed"
    },
    "tags": []
   },
   "outputs": [
    {
     "data": {
      "text/plain": [
       "{'KNeighborsClassifier': {'n_neighbors': 9},\n",
       " 'XGBClassifier': {'max_depth': 2,\n",
       "  'learning_rate': 0.631578947368421,\n",
       "  'lambda': 0,\n",
       "  'gamma': 15,\n",
       "  'alpha': 0},\n",
       " 'XGBRFClassifier': {'max_depth': 2, 'learning_rate': 0.47368421052631576},\n",
       " 'SVC': {'kernel': 'rbf', 'gamma': 'scale', 'degree': 20, 'C': 0.6}}"
      ]
     },
     "execution_count": 101,
     "metadata": {},
     "output_type": "execute_result"
    }
   ],
   "source": [
    "model_rs_best_param_2"
   ]
  },
  {
   "cell_type": "markdown",
   "id": "incoming-buddy",
   "metadata": {
    "id": "ygViIhOjjR3x",
    "papermill": {
     "duration": 0.062032,
     "end_time": "2021-06-27T05:44:26.028130",
     "exception": false,
     "start_time": "2021-06-27T05:44:25.966098",
     "status": "completed"
    },
    "tags": []
   },
   "source": [
    "# 6. Evaluating Models"
   ]
  },
  {
   "cell_type": "code",
   "execution_count": 102,
   "id": "considered-quilt",
   "metadata": {
    "executionInfo": {
     "elapsed": 417,
     "status": "ok",
     "timestamp": 1624766158148,
     "user": {
      "displayName": "Dave Ng",
      "photoUrl": "https://lh3.googleusercontent.com/a-/AOh14GgonRm27MsGqoj6VBdYHSPgZwrgEH99_VpwU7OMzQ=s64",
      "userId": "11648937927449049695"
     },
     "user_tz": -480
    },
    "id": "fnvi8sdYji8w",
    "papermill": {
     "duration": 0.074328,
     "end_time": "2021-06-27T05:44:26.301901",
     "exception": false,
     "start_time": "2021-06-27T05:44:26.227573",
     "status": "completed"
    },
    "tags": []
   },
   "outputs": [],
   "source": [
    "model = KNeighborsClassifier(n_neighbors=9)\n",
    "model.fit(X_train,y_train)\n",
    "y_preds = model.predict(X_test)"
   ]
  },
  {
   "cell_type": "markdown",
   "id": "quarterly-murray",
   "metadata": {
    "id": "W5147OM4ma1x",
    "papermill": {
     "duration": 0.06203,
     "end_time": "2021-06-27T05:44:26.427730",
     "exception": false,
     "start_time": "2021-06-27T05:44:26.365700",
     "status": "completed"
    },
    "tags": []
   },
   "source": [
    "## Classification Report"
   ]
  },
  {
   "cell_type": "code",
   "execution_count": 103,
   "id": "dirty-sport",
   "metadata": {
    "executionInfo": {
     "elapsed": 9,
     "status": "ok",
     "timestamp": 1624766158543,
     "user": {
      "displayName": "Dave Ng",
      "photoUrl": "https://lh3.googleusercontent.com/a-/AOh14GgonRm27MsGqoj6VBdYHSPgZwrgEH99_VpwU7OMzQ=s64",
      "userId": "11648937927449049695"
     },
     "user_tz": -480
    },
    "id": "RF4sq1qnjvIc",
    "outputId": "ee22b5e5-44a6-4148-a9d3-602082b4d29c",
    "papermill": {
     "duration": 0.076758,
     "end_time": "2021-06-27T05:44:26.566002",
     "exception": false,
     "start_time": "2021-06-27T05:44:26.489244",
     "status": "completed"
    },
    "tags": []
   },
   "outputs": [
    {
     "name": "stdout",
     "output_type": "stream",
     "text": [
      "              precision    recall  f1-score   support\n",
      "\n",
      "           0       0.98      0.92      0.95        52\n",
      "           1       0.87      0.96      0.92        28\n",
      "\n",
      "    accuracy                           0.94        80\n",
      "   macro avg       0.93      0.94      0.93        80\n",
      "weighted avg       0.94      0.94      0.94        80\n",
      "\n"
     ]
    }
   ],
   "source": [
    "print(classification_report(y_test,y_preds))"
   ]
  },
  {
   "cell_type": "markdown",
   "id": "d8fd9c9d-a940-407d-9a09-963f80073536",
   "metadata": {},
   "source": [
    "The classification report provides an evaluation of a binary classification model's performance on a test set. The report is divided into three main sections: precision, recall, and f1-score, along with the support (number of observations) for each class.\n",
    "\n",
    "The **precision** for a class is the proportion of true positives among all the positive predictions for that class. In this case, the precision for class 0 is 0.98, which means that when the model predicts that an observation belongs to class 0, it is correct 98% of the time. The precision for class 1 is 0.87, which means that when the model predicts that an observation belongs to class 1, it is correct 87% of the time.\n",
    "\n",
    "The **recall** for a class is the proportion of true positives among all the actual observations of that class. In this case, the recall for class 0 is 0.92, which means that the model correctly identifies 92% of all the observations in class 0. The recall for class 1 is 0.96, which means that the model correctly identifies 96% of all the observations in class 1.\n",
    "\n",
    "The **f1-score** is the harmonic mean of the precision and recall for a class, and it provides a balanced measure of the model's performance. The f1-score for class 0 is 0.95, and for class 1 it is 0.92.\n",
    "\n",
    "**The accuracy is the proportion of correct predictions over all the predictions made by the model, and it is 0.94 in this case.**\n",
    "\n",
    "The macro avg is the unweighted average of the precision, recall, and f1-score for both classes. In this case, it is 0.93, which means that the overall performance of the model is quite good.\n",
    "\n",
    "The weighted avg is the weighted average of the precision, recall, and f1-score for both classes, weighted by the number of observations in each class. In this case, it is also 0.94, which indicates that the model is performing well for both classes."
   ]
  },
  {
   "cell_type": "markdown",
   "id": "strategic-progress",
   "metadata": {
    "id": "B69h6KFemgOb",
    "papermill": {
     "duration": 0.061903,
     "end_time": "2021-06-27T05:44:26.691293",
     "exception": false,
     "start_time": "2021-06-27T05:44:26.629390",
     "status": "completed"
    },
    "tags": []
   },
   "source": [
    "## Confusion Matrix"
   ]
  },
  {
   "cell_type": "code",
   "execution_count": 104,
   "id": "quality-stuff",
   "metadata": {
    "executionInfo": {
     "elapsed": 436,
     "status": "ok",
     "timestamp": 1624766164416,
     "user": {
      "displayName": "Dave Ng",
      "photoUrl": "https://lh3.googleusercontent.com/a-/AOh14GgonRm27MsGqoj6VBdYHSPgZwrgEH99_VpwU7OMzQ=s64",
      "userId": "11648937927449049695"
     },
     "user_tz": -480
    },
    "id": "puOfkni4kTJ8",
    "outputId": "886cb8c3-41aa-47dd-c9c0-3e07ff13b3e5",
    "papermill": {
     "duration": 0.233674,
     "end_time": "2021-06-27T05:44:26.988618",
     "exception": false,
     "start_time": "2021-06-27T05:44:26.754944",
     "status": "completed"
    },
    "tags": []
   },
   "outputs": [
    {
     "data": {
      "image/png": "[encoded data removed]",
      "text/plain": [
       "<Figure size 432x288 with 2 Axes>"
      ]
     },
     "metadata": {
      "needs_background": "light"
     },
     "output_type": "display_data"
    }
   ],
   "source": [
    "plot_confusion_matrix(model, X_test, y_test);"
   ]
  },
  {
   "cell_type": "markdown",
   "id": "be9803b1-0716-4e30-b57e-8f84be85436b",
   "metadata": {},
   "source": [
    "The confusion matrix is a table used to evaluate the performance of a classification model. It shows the number of true positives (TP), false positives (FP), true negatives (TN), and false negatives (FN) for each class in the prediction. In this case, the confusion matrix is showing the performance of a binary classification model with two classes: 0 and 1.\n",
    "\n",
    "For class 0, the model correctly predicted 48 out of 52 instances, resulting in 1 false negatives. For class 1, the model correctly predicted 27 out of 28 instances, resulting in 1 false negative. The false positives are also shown in the confusion matrix, with 4 instances of class 0 being incorrectly predicted as class 1.\n",
    "\n",
    "Overall, the confusion matrix shows that the model has a good performance in predicting both classes, with a higher accuracy for class 0. However, there is still some room for improvement as indicated by the false positive values."
   ]
  },
  {
   "cell_type": "markdown",
   "id": "tutorial-coverage",
   "metadata": {
    "id": "cCCkJtMDmj9A",
    "papermill": {
     "duration": 0.068865,
     "end_time": "2021-06-27T05:44:27.120726",
     "exception": false,
     "start_time": "2021-06-27T05:44:27.051861",
     "status": "completed"
    },
    "tags": []
   },
   "source": [
    "## ROC Curve"
   ]
  },
  {
   "cell_type": "code",
   "execution_count": 105,
   "id": "unusual-integrity",
   "metadata": {
    "executionInfo": {
     "elapsed": 7,
     "status": "ok",
     "timestamp": 1624766165875,
     "user": {
      "displayName": "Dave Ng",
      "photoUrl": "https://lh3.googleusercontent.com/a-/AOh14GgonRm27MsGqoj6VBdYHSPgZwrgEH99_VpwU7OMzQ=s64",
      "userId": "11648937927449049695"
     },
     "user_tz": -480
    },
    "id": "spOJbXnPkZAW",
    "outputId": "f2bc2c98-a1a0-4bd4-f8c6-1ab472aa6d60",
    "papermill": {
     "duration": 0.220353,
     "end_time": "2021-06-27T05:44:27.404065",
     "exception": false,
     "start_time": "2021-06-27T05:44:27.183712",
     "status": "completed"
    },
    "tags": []
   },
   "outputs": [
    {
     "data": {
      "image/png": "[encoded data removed]",
      "text/plain": [
       "<Figure size 432x288 with 1 Axes>"
      ]
     },
     "metadata": {
      "needs_background": "light"
     },
     "output_type": "display_data"
    }
   ],
   "source": [
    "plot_roc_curve(model, X_test,y_test);"
   ]
  },
  {
   "cell_type": "markdown",
   "id": "7f642f0b-31d2-4398-b81a-83913d41c709",
   "metadata": {},
   "source": [
    "Based on the ROC curve for your dataset, the model seems to have good predictive power. \n",
    "\n",
    "The curve is close to the top left corner of the plot, which indicates a high true positive rate and a low false positive rate. \n",
    "\n",
    "- The **AUC score of 0.97 is also very high**, which further confirms that the model is good at distinguishing between the positive and negative classes. \n",
    "    - In other words, the model has a high probability of correctly identifying the positive instances and a low probability of misclassifying the negative instances. \n",
    "    \n",
    "    \n",
    "Overall, the ROC curve and AUC score suggest that the model has good performance for your dataset."
   ]
  },
  {
   "cell_type": "markdown",
   "id": "changing-preserve",
   "metadata": {
    "id": "onBn5WDdkdhO",
    "papermill": {
     "duration": 0.063458,
     "end_time": "2021-06-27T05:44:27.532712",
     "exception": false,
     "start_time": "2021-06-27T05:44:27.469254",
     "status": "completed"
    },
    "tags": []
   },
   "source": [
    "#### The KNeigborsClassifier model is the best one performing at 94% accuracy and it also performs better than the baseline models."
   ]
  }
 ],
 "metadata": {
  "kernelspec": {
   "display_name": "Python 3 (ipykernel)",
   "language": "python",
   "name": "python3"
  },
  "language_info": {
   "codemirror_mode": {
    "name": "ipython",
    "version": 3
   },
   "file_extension": ".py",
   "mimetype": "text/x-python",
   "name": "python",
   "nbconvert_exporter": "python",
   "pygments_lexer": "ipython3",
   "version": "3.9.12"
  },
  "papermill": {
   "default_parameters": {},
   "duration": 29.64106,
   "end_time": "2021-06-27T05:44:28.434722",
   "environment_variables": {},
   "exception": null,
   "input_path": "__notebook__.ipynb",
   "output_path": "__notebook__.ipynb",
   "parameters": {},
   "start_time": "2021-06-27T05:43:58.793662",
   "version": "2.3.2"
  }
 },
 "nbformat": 4,
 "nbformat_minor": 5
}
